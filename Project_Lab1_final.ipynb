{
 "cells": [
  {
   "cell_type": "markdown",
   "metadata": {},
   "source": [
    "# Introduction (Unit I) - Luisen"
   ]
  },
  {
   "cell_type": "markdown",
   "metadata": {},
   "source": [
    "## 1.- Import data"
   ]
  },
  {
   "cell_type": "code",
   "execution_count": 1,
   "metadata": {},
   "outputs": [],
   "source": [
    "import pandas as pd\n",
    "import numpy as np\n",
    "import seaborn as sns\n",
    "import matplotlib\n",
    "from matplotlib import pyplot as plt"
   ]
  },
  {
   "cell_type": "code",
   "execution_count": 2,
   "metadata": {},
   "outputs": [
    {
     "data": {
      "text/html": [
       "<div>\n",
       "<style scoped>\n",
       "    .dataframe tbody tr th:only-of-type {\n",
       "        vertical-align: middle;\n",
       "    }\n",
       "\n",
       "    .dataframe tbody tr th {\n",
       "        vertical-align: top;\n",
       "    }\n",
       "\n",
       "    .dataframe thead th {\n",
       "        text-align: right;\n",
       "    }\n",
       "</style>\n",
       "<table border=\"1\" class=\"dataframe\">\n",
       "  <thead>\n",
       "    <tr style=\"text-align: right;\">\n",
       "      <th></th>\n",
       "      <th>Age</th>\n",
       "      <th>Gender</th>\n",
       "      <th>BMI</th>\n",
       "      <th>Fever</th>\n",
       "      <th>Nausea/Vomting</th>\n",
       "      <th>Headache</th>\n",
       "      <th>Diarrhea</th>\n",
       "      <th>Fatigue &amp; generalized bone ache</th>\n",
       "      <th>Jaundice</th>\n",
       "      <th>Epigastric pain</th>\n",
       "      <th>...</th>\n",
       "      <th>ALT 36</th>\n",
       "      <th>ALT 48</th>\n",
       "      <th>ALT after 24 w</th>\n",
       "      <th>RNA Base</th>\n",
       "      <th>RNA 4</th>\n",
       "      <th>RNA 12</th>\n",
       "      <th>RNA EOT</th>\n",
       "      <th>RNA EF</th>\n",
       "      <th>Baseline histological Grading</th>\n",
       "      <th>Baselinehistological staging</th>\n",
       "    </tr>\n",
       "  </thead>\n",
       "  <tbody>\n",
       "    <tr>\n",
       "      <th>0</th>\n",
       "      <td>56</td>\n",
       "      <td>1</td>\n",
       "      <td>35</td>\n",
       "      <td>2</td>\n",
       "      <td>1</td>\n",
       "      <td>1</td>\n",
       "      <td>1</td>\n",
       "      <td>2</td>\n",
       "      <td>2</td>\n",
       "      <td>2</td>\n",
       "      <td>...</td>\n",
       "      <td>5</td>\n",
       "      <td>5</td>\n",
       "      <td>5</td>\n",
       "      <td>655330</td>\n",
       "      <td>634536</td>\n",
       "      <td>288194</td>\n",
       "      <td>5</td>\n",
       "      <td>5</td>\n",
       "      <td>13</td>\n",
       "      <td>2</td>\n",
       "    </tr>\n",
       "    <tr>\n",
       "      <th>1</th>\n",
       "      <td>46</td>\n",
       "      <td>1</td>\n",
       "      <td>29</td>\n",
       "      <td>1</td>\n",
       "      <td>2</td>\n",
       "      <td>2</td>\n",
       "      <td>1</td>\n",
       "      <td>2</td>\n",
       "      <td>2</td>\n",
       "      <td>1</td>\n",
       "      <td>...</td>\n",
       "      <td>57</td>\n",
       "      <td>123</td>\n",
       "      <td>44</td>\n",
       "      <td>40620</td>\n",
       "      <td>538635</td>\n",
       "      <td>637056</td>\n",
       "      <td>336804</td>\n",
       "      <td>31085</td>\n",
       "      <td>4</td>\n",
       "      <td>2</td>\n",
       "    </tr>\n",
       "    <tr>\n",
       "      <th>2</th>\n",
       "      <td>57</td>\n",
       "      <td>1</td>\n",
       "      <td>33</td>\n",
       "      <td>2</td>\n",
       "      <td>2</td>\n",
       "      <td>2</td>\n",
       "      <td>2</td>\n",
       "      <td>1</td>\n",
       "      <td>1</td>\n",
       "      <td>1</td>\n",
       "      <td>...</td>\n",
       "      <td>5</td>\n",
       "      <td>5</td>\n",
       "      <td>5</td>\n",
       "      <td>571148</td>\n",
       "      <td>661346</td>\n",
       "      <td>5</td>\n",
       "      <td>735945</td>\n",
       "      <td>558829</td>\n",
       "      <td>4</td>\n",
       "      <td>4</td>\n",
       "    </tr>\n",
       "    <tr>\n",
       "      <th>3</th>\n",
       "      <td>49</td>\n",
       "      <td>2</td>\n",
       "      <td>33</td>\n",
       "      <td>1</td>\n",
       "      <td>2</td>\n",
       "      <td>1</td>\n",
       "      <td>2</td>\n",
       "      <td>1</td>\n",
       "      <td>2</td>\n",
       "      <td>1</td>\n",
       "      <td>...</td>\n",
       "      <td>48</td>\n",
       "      <td>77</td>\n",
       "      <td>33</td>\n",
       "      <td>1041941</td>\n",
       "      <td>449939</td>\n",
       "      <td>585688</td>\n",
       "      <td>744463</td>\n",
       "      <td>582301</td>\n",
       "      <td>10</td>\n",
       "      <td>3</td>\n",
       "    </tr>\n",
       "    <tr>\n",
       "      <th>4</th>\n",
       "      <td>59</td>\n",
       "      <td>1</td>\n",
       "      <td>32</td>\n",
       "      <td>1</td>\n",
       "      <td>1</td>\n",
       "      <td>2</td>\n",
       "      <td>1</td>\n",
       "      <td>2</td>\n",
       "      <td>2</td>\n",
       "      <td>2</td>\n",
       "      <td>...</td>\n",
       "      <td>94</td>\n",
       "      <td>90</td>\n",
       "      <td>30</td>\n",
       "      <td>660410</td>\n",
       "      <td>738756</td>\n",
       "      <td>3731527</td>\n",
       "      <td>338946</td>\n",
       "      <td>242861</td>\n",
       "      <td>11</td>\n",
       "      <td>1</td>\n",
       "    </tr>\n",
       "  </tbody>\n",
       "</table>\n",
       "<p>5 rows × 29 columns</p>\n",
       "</div>"
      ],
      "text/plain": [
       "   Age   Gender  BMI  Fever  Nausea/Vomting  Headache   Diarrhea   \\\n",
       "0    56       1   35      2               1          1          1   \n",
       "1    46       1   29      1               2          2          1   \n",
       "2    57       1   33      2               2          2          2   \n",
       "3    49       2   33      1               2          1          2   \n",
       "4    59       1   32      1               1          2          1   \n",
       "\n",
       "   Fatigue & generalized bone ache   Jaundice   Epigastric pain   ...  ALT 36  \\\n",
       "0                                 2          2                 2  ...       5   \n",
       "1                                 2          2                 1  ...      57   \n",
       "2                                 1          1                 1  ...       5   \n",
       "3                                 1          2                 1  ...      48   \n",
       "4                                 2          2                 2  ...      94   \n",
       "\n",
       "   ALT 48  ALT after 24 w  RNA Base   RNA 4   RNA 12  RNA EOT  RNA EF  \\\n",
       "0       5               5    655330  634536   288194        5       5   \n",
       "1     123              44     40620  538635   637056   336804   31085   \n",
       "2       5               5    571148  661346        5   735945  558829   \n",
       "3      77              33   1041941  449939   585688   744463  582301   \n",
       "4      90              30    660410  738756  3731527   338946  242861   \n",
       "\n",
       "   Baseline histological Grading  Baselinehistological staging  \n",
       "0                             13                             2  \n",
       "1                              4                             2  \n",
       "2                              4                             4  \n",
       "3                             10                             3  \n",
       "4                             11                             1  \n",
       "\n",
       "[5 rows x 29 columns]"
      ]
     },
     "execution_count": 2,
     "metadata": {},
     "output_type": "execute_result"
    }
   ],
   "source": [
    "#Load data from csv and store it in dataframe\n",
    "data = pd.read_csv(\"HCV-Egy-Data.csv\") #We can change this database\n",
    "\n",
    "# We show the first \n",
    "data.head() # Return the first n rows."
   ]
  },
  {
   "cell_type": "markdown",
   "metadata": {},
   "source": [
    "## 2.- Data set description - \"Hepatitis C Virus (HCV) for Egyptian patients\" "
   ]
  },
  {
   "cell_type": "markdown",
   "metadata": {},
   "source": [
    "Egyptian patients who underwent treatment dosages for HCV about 18 months. Discretization should be applied based on expert recommendations; there is an attached file shows how.\n",
    "\n",
    "\n",
    "\n",
    "*Age: Age\n",
    "*Gender Gender\n",
    "*BMI Body Mass Index\n",
    "Fever Fever\n",
    "Nausea/Vomting Nausea/Vomting\n",
    "Headache Headache\n",
    "Diarrhea Diarrhea\n",
    "Fatigue & generalized bone ache Fatigue & generalized bone ache\n",
    "Jaundice Jaundice\n",
    "Epigastric pain Epigastric pain\n",
    "WBC White blood cell\n",
    "RBC red blood cells\n",
    "HGB Hemoglobin\n",
    "Plat Platelets\n",
    "AST 1 aspartate transaminase ratio\n",
    "ALT 1 alanine transaminase ratio 1 week\n",
    "ALT 4 alanine transaminase ratio 12 weeks\n",
    "ALT 12 alanine transaminase ratio 4 weeks\n",
    "ALT 24 alanine transaminase ratio 24 weeks\n",
    "ALT 36 alanine transaminase ratio 36 weeks\n",
    "ALT 48 alanine transaminase ratio 48 weeks\n",
    "ALT after 24 w alanine transaminase ratio 24 weeks\n",
    "RNA Base RNA Base\n",
    "RNA 4 RNA 4\n",
    "RNA 12 RNA 12\n",
    "RNA EOT RNA end-of-treatment\n",
    "RNA EF RNA Elongation Factor\n",
    "Baseline histological Grading Baseline histological Grading\n",
    "Baselinehistological staging Baselinehistological staging"
   ]
  },
  {
   "cell_type": "markdown",
   "metadata": {},
   "source": [
    "#### a) We indicate the type each variable is (numerical, categorical, etc.)."
   ]
  },
  {
   "cell_type": "code",
   "execution_count": 3,
   "metadata": {},
   "outputs": [
    {
     "data": {
      "text/plain": [
       "Age                                 int64\n",
       "Gender                              int64\n",
       "BMI                                 int64\n",
       "Fever                               int64\n",
       "Nausea/Vomting                      int64\n",
       "Headache                            int64\n",
       "Diarrhea                            int64\n",
       "Fatigue & generalized bone ache     int64\n",
       "Jaundice                            int64\n",
       "Epigastric pain                     int64\n",
       "WBC                                 int64\n",
       "RBC                                 int64\n",
       "HGB                                 int64\n",
       "Plat                                int64\n",
       "AST 1                               int64\n",
       "ALT 1                               int64\n",
       "ALT4                                int64\n",
       "ALT 12                              int64\n",
       "ALT 24                              int64\n",
       "ALT 36                              int64\n",
       "ALT 48                              int64\n",
       "ALT after 24 w                      int64\n",
       "RNA Base                            int64\n",
       "RNA 4                               int64\n",
       "RNA 12                              int64\n",
       "RNA EOT                             int64\n",
       "RNA EF                              int64\n",
       "Baseline histological Grading       int64\n",
       "Baselinehistological staging        int64\n",
       "dtype: object"
      ]
     },
     "execution_count": 3,
     "metadata": {},
     "output_type": "execute_result"
    }
   ],
   "source": [
    "data.dtypes"
   ]
  },
  {
   "cell_type": "markdown",
   "metadata": {},
   "source": [
    "#### b) Columns name"
   ]
  },
  {
   "cell_type": "code",
   "execution_count": 4,
   "metadata": {},
   "outputs": [
    {
     "data": {
      "text/plain": [
       "Index(['Age ', 'Gender', 'BMI', 'Fever', 'Nausea/Vomting', 'Headache ',\n",
       "       'Diarrhea ', 'Fatigue & generalized bone ache ', 'Jaundice ',\n",
       "       'Epigastric pain ', 'WBC', 'RBC', 'HGB', 'Plat', 'AST 1', 'ALT 1',\n",
       "       'ALT4', 'ALT 12', 'ALT 24', 'ALT 36', 'ALT 48', 'ALT after 24 w',\n",
       "       'RNA Base', 'RNA 4', 'RNA 12', 'RNA EOT', 'RNA EF',\n",
       "       'Baseline histological Grading', 'Baselinehistological staging'],\n",
       "      dtype='object')"
      ]
     },
     "execution_count": 4,
     "metadata": {},
     "output_type": "execute_result"
    }
   ],
   "source": [
    "data.columns"
   ]
  },
  {
   "cell_type": "markdown",
   "metadata": {},
   "source": [
    "#### c) Removing column blank spaces"
   ]
  },
  {
   "cell_type": "code",
   "execution_count": 5,
   "metadata": {},
   "outputs": [
    {
     "data": {
      "text/plain": [
       "Index(['Age', 'Gender', 'BMI', 'Fever', 'Nausea/Vomting', 'Headache',\n",
       "       'Diarrhea', 'Fatigue&generalizedboneache', 'Jaundice', 'Epigastricpain',\n",
       "       'WBC', 'RBC', 'HGB', 'Plat', 'AST1', 'ALT1', 'ALT4', 'ALT12', 'ALT24',\n",
       "       'ALT36', 'ALT48', 'ALTafter24w', 'RNABase', 'RNA4', 'RNA12', 'RNAEOT',\n",
       "       'RNAEF', 'BaselinehistologicalGrading', 'Baselinehistologicalstaging'],\n",
       "      dtype='object')"
      ]
     },
     "execution_count": 5,
     "metadata": {},
     "output_type": "execute_result"
    }
   ],
   "source": [
    "data.columns = data.columns.str.replace(' ', '')\n",
    "data.columns"
   ]
  },
  {
   "cell_type": "markdown",
   "metadata": {},
   "source": [
    "#### d) Adding two categorical variables (from 'Baselinehistologicalstaging')\n",
    "The new variable 'Outcome' indicates whether the patient has Cirrhosis or not (1 or 0) and 'Histologicalstaging' that indicates the histological stage of the disease."
   ]
  },
  {
   "cell_type": "code",
   "execution_count": 6,
   "metadata": {},
   "outputs": [
    {
     "data": {
      "text/plain": [
       "Index(['Age', 'Gender', 'BMI', 'Fever', 'Nausea/Vomting', 'Headache',\n",
       "       'Diarrhea', 'Fatigue&generalizedboneache', 'Jaundice', 'Epigastricpain',\n",
       "       'WBC', 'RBC', 'HGB', 'Plat', 'AST1', 'ALT1', 'ALT4', 'ALT12', 'ALT24',\n",
       "       'ALT36', 'ALT48', 'ALTafter24w', 'RNABase', 'RNA4', 'RNA12', 'RNAEOT',\n",
       "       'RNAEF', 'BaselinehistologicalGrading', 'Baselinehistologicalstaging',\n",
       "       'Histologicalstaging'],\n",
       "      dtype='object')"
      ]
     },
     "execution_count": 6,
     "metadata": {},
     "output_type": "execute_result"
    }
   ],
   "source": [
    "category=pd.cut(data.Baselinehistologicalstaging, right=False\n",
    "                ,bins=[0,1,2,3,4,5],labels=['NoFibrosis','PortalFibrosis','FewSepta','ManySepta','Cirrhosis'])\n",
    "data.insert(29,'Histologicalstaging', category)\n",
    "data.columns"
   ]
  },
  {
   "cell_type": "code",
   "execution_count": 7,
   "metadata": {},
   "outputs": [
    {
     "data": {
      "text/plain": [
       "Index(['Age', 'Gender', 'BMI', 'Fever', 'Nausea/Vomting', 'Headache',\n",
       "       'Diarrhea', 'Fatigue&generalizedboneache', 'Jaundice', 'Epigastricpain',\n",
       "       'WBC', 'RBC', 'HGB', 'Plat', 'AST1', 'ALT1', 'ALT4', 'ALT12', 'ALT24',\n",
       "       'ALT36', 'ALT48', 'ALTafter24w', 'RNABase', 'RNA4', 'RNA12', 'RNAEOT',\n",
       "       'RNAEF', 'BaselinehistologicalGrading', 'Baselinehistologicalstaging',\n",
       "       'Histologicalstaging', 'Outcome'],\n",
       "      dtype='object')"
      ]
     },
     "execution_count": 7,
     "metadata": {},
     "output_type": "execute_result"
    }
   ],
   "source": [
    "new_var= np.where((data['Baselinehistologicalstaging'] < 4), 0,1)\n",
    "data.insert(30,'Outcome', new_var) # In the 8th position.\n",
    "data.columns"
   ]
  },
  {
   "cell_type": "code",
   "execution_count": 8,
   "metadata": {},
   "outputs": [
    {
     "data": {
      "text/plain": [
       "Age                               int64\n",
       "Gender                            int64\n",
       "BMI                               int64\n",
       "Fever                             int64\n",
       "Nausea/Vomting                    int64\n",
       "Headache                          int64\n",
       "Diarrhea                          int64\n",
       "Fatigue&generalizedboneache       int64\n",
       "Jaundice                          int64\n",
       "Epigastricpain                    int64\n",
       "WBC                               int64\n",
       "RBC                               int64\n",
       "HGB                               int64\n",
       "Plat                              int64\n",
       "AST1                              int64\n",
       "ALT1                              int64\n",
       "ALT4                              int64\n",
       "ALT12                             int64\n",
       "ALT24                             int64\n",
       "ALT36                             int64\n",
       "ALT48                             int64\n",
       "ALTafter24w                       int64\n",
       "RNABase                           int64\n",
       "RNA4                              int64\n",
       "RNA12                             int64\n",
       "RNAEOT                            int64\n",
       "RNAEF                             int64\n",
       "BaselinehistologicalGrading       int64\n",
       "Baselinehistologicalstaging       int64\n",
       "Histologicalstaging            category\n",
       "Outcome                           int64\n",
       "dtype: object"
      ]
     },
     "execution_count": 8,
     "metadata": {},
     "output_type": "execute_result"
    }
   ],
   "source": [
    "data.dtypes"
   ]
  },
  {
   "cell_type": "code",
   "execution_count": 9,
   "metadata": {},
   "outputs": [
    {
     "data": {
      "text/html": [
       "<div>\n",
       "<style scoped>\n",
       "    .dataframe tbody tr th:only-of-type {\n",
       "        vertical-align: middle;\n",
       "    }\n",
       "\n",
       "    .dataframe tbody tr th {\n",
       "        vertical-align: top;\n",
       "    }\n",
       "\n",
       "    .dataframe thead th {\n",
       "        text-align: right;\n",
       "    }\n",
       "</style>\n",
       "<table border=\"1\" class=\"dataframe\">\n",
       "  <thead>\n",
       "    <tr style=\"text-align: right;\">\n",
       "      <th></th>\n",
       "      <th>Age</th>\n",
       "      <th>Gender</th>\n",
       "      <th>BMI</th>\n",
       "      <th>Fever</th>\n",
       "      <th>Nausea/Vomting</th>\n",
       "      <th>Headache</th>\n",
       "      <th>Diarrhea</th>\n",
       "      <th>Fatigue&amp;generalizedboneache</th>\n",
       "      <th>Jaundice</th>\n",
       "      <th>Epigastricpain</th>\n",
       "      <th>...</th>\n",
       "      <th>ALTafter24w</th>\n",
       "      <th>RNABase</th>\n",
       "      <th>RNA4</th>\n",
       "      <th>RNA12</th>\n",
       "      <th>RNAEOT</th>\n",
       "      <th>RNAEF</th>\n",
       "      <th>BaselinehistologicalGrading</th>\n",
       "      <th>Baselinehistologicalstaging</th>\n",
       "      <th>Histologicalstaging</th>\n",
       "      <th>Outcome</th>\n",
       "    </tr>\n",
       "  </thead>\n",
       "  <tbody>\n",
       "    <tr>\n",
       "      <th>0</th>\n",
       "      <td>56</td>\n",
       "      <td>1</td>\n",
       "      <td>35</td>\n",
       "      <td>2</td>\n",
       "      <td>1</td>\n",
       "      <td>1</td>\n",
       "      <td>1</td>\n",
       "      <td>2</td>\n",
       "      <td>2</td>\n",
       "      <td>2</td>\n",
       "      <td>...</td>\n",
       "      <td>5</td>\n",
       "      <td>655330</td>\n",
       "      <td>634536</td>\n",
       "      <td>288194</td>\n",
       "      <td>5</td>\n",
       "      <td>5</td>\n",
       "      <td>13</td>\n",
       "      <td>2</td>\n",
       "      <td>FewSepta</td>\n",
       "      <td>0</td>\n",
       "    </tr>\n",
       "    <tr>\n",
       "      <th>1</th>\n",
       "      <td>46</td>\n",
       "      <td>1</td>\n",
       "      <td>29</td>\n",
       "      <td>1</td>\n",
       "      <td>2</td>\n",
       "      <td>2</td>\n",
       "      <td>1</td>\n",
       "      <td>2</td>\n",
       "      <td>2</td>\n",
       "      <td>1</td>\n",
       "      <td>...</td>\n",
       "      <td>44</td>\n",
       "      <td>40620</td>\n",
       "      <td>538635</td>\n",
       "      <td>637056</td>\n",
       "      <td>336804</td>\n",
       "      <td>31085</td>\n",
       "      <td>4</td>\n",
       "      <td>2</td>\n",
       "      <td>FewSepta</td>\n",
       "      <td>0</td>\n",
       "    </tr>\n",
       "    <tr>\n",
       "      <th>2</th>\n",
       "      <td>57</td>\n",
       "      <td>1</td>\n",
       "      <td>33</td>\n",
       "      <td>2</td>\n",
       "      <td>2</td>\n",
       "      <td>2</td>\n",
       "      <td>2</td>\n",
       "      <td>1</td>\n",
       "      <td>1</td>\n",
       "      <td>1</td>\n",
       "      <td>...</td>\n",
       "      <td>5</td>\n",
       "      <td>571148</td>\n",
       "      <td>661346</td>\n",
       "      <td>5</td>\n",
       "      <td>735945</td>\n",
       "      <td>558829</td>\n",
       "      <td>4</td>\n",
       "      <td>4</td>\n",
       "      <td>Cirrhosis</td>\n",
       "      <td>1</td>\n",
       "    </tr>\n",
       "    <tr>\n",
       "      <th>3</th>\n",
       "      <td>49</td>\n",
       "      <td>2</td>\n",
       "      <td>33</td>\n",
       "      <td>1</td>\n",
       "      <td>2</td>\n",
       "      <td>1</td>\n",
       "      <td>2</td>\n",
       "      <td>1</td>\n",
       "      <td>2</td>\n",
       "      <td>1</td>\n",
       "      <td>...</td>\n",
       "      <td>33</td>\n",
       "      <td>1041941</td>\n",
       "      <td>449939</td>\n",
       "      <td>585688</td>\n",
       "      <td>744463</td>\n",
       "      <td>582301</td>\n",
       "      <td>10</td>\n",
       "      <td>3</td>\n",
       "      <td>ManySepta</td>\n",
       "      <td>0</td>\n",
       "    </tr>\n",
       "    <tr>\n",
       "      <th>4</th>\n",
       "      <td>59</td>\n",
       "      <td>1</td>\n",
       "      <td>32</td>\n",
       "      <td>1</td>\n",
       "      <td>1</td>\n",
       "      <td>2</td>\n",
       "      <td>1</td>\n",
       "      <td>2</td>\n",
       "      <td>2</td>\n",
       "      <td>2</td>\n",
       "      <td>...</td>\n",
       "      <td>30</td>\n",
       "      <td>660410</td>\n",
       "      <td>738756</td>\n",
       "      <td>3731527</td>\n",
       "      <td>338946</td>\n",
       "      <td>242861</td>\n",
       "      <td>11</td>\n",
       "      <td>1</td>\n",
       "      <td>PortalFibrosis</td>\n",
       "      <td>0</td>\n",
       "    </tr>\n",
       "  </tbody>\n",
       "</table>\n",
       "<p>5 rows × 31 columns</p>\n",
       "</div>"
      ],
      "text/plain": [
       "   Age  Gender  BMI  Fever  Nausea/Vomting  Headache  Diarrhea  \\\n",
       "0   56       1   35      2               1         1         1   \n",
       "1   46       1   29      1               2         2         1   \n",
       "2   57       1   33      2               2         2         2   \n",
       "3   49       2   33      1               2         1         2   \n",
       "4   59       1   32      1               1         2         1   \n",
       "\n",
       "   Fatigue&generalizedboneache  Jaundice  Epigastricpain  ...  ALTafter24w  \\\n",
       "0                            2         2               2  ...            5   \n",
       "1                            2         2               1  ...           44   \n",
       "2                            1         1               1  ...            5   \n",
       "3                            1         2               1  ...           33   \n",
       "4                            2         2               2  ...           30   \n",
       "\n",
       "   RNABase    RNA4    RNA12  RNAEOT   RNAEF  BaselinehistologicalGrading  \\\n",
       "0   655330  634536   288194       5       5                           13   \n",
       "1    40620  538635   637056  336804   31085                            4   \n",
       "2   571148  661346        5  735945  558829                            4   \n",
       "3  1041941  449939   585688  744463  582301                           10   \n",
       "4   660410  738756  3731527  338946  242861                           11   \n",
       "\n",
       "   Baselinehistologicalstaging  Histologicalstaging  Outcome  \n",
       "0                            2             FewSepta        0  \n",
       "1                            2             FewSepta        0  \n",
       "2                            4            Cirrhosis        1  \n",
       "3                            3            ManySepta        0  \n",
       "4                            1       PortalFibrosis        0  \n",
       "\n",
       "[5 rows x 31 columns]"
      ]
     },
     "execution_count": 9,
     "metadata": {},
     "output_type": "execute_result"
    }
   ],
   "source": [
    "data.head()"
   ]
  },
  {
   "cell_type": "markdown",
   "metadata": {},
   "source": [
    "## 3.- Descriptive Statistical Analysis"
   ]
  },
  {
   "cell_type": "code",
   "execution_count": 10,
   "metadata": {},
   "outputs": [
    {
     "data": {
      "text/html": [
       "<div>\n",
       "<style scoped>\n",
       "    .dataframe tbody tr th:only-of-type {\n",
       "        vertical-align: middle;\n",
       "    }\n",
       "\n",
       "    .dataframe tbody tr th {\n",
       "        vertical-align: top;\n",
       "    }\n",
       "\n",
       "    .dataframe thead th {\n",
       "        text-align: right;\n",
       "    }\n",
       "</style>\n",
       "<table border=\"1\" class=\"dataframe\">\n",
       "  <thead>\n",
       "    <tr style=\"text-align: right;\">\n",
       "      <th></th>\n",
       "      <th>Age</th>\n",
       "      <th>Gender</th>\n",
       "      <th>BMI</th>\n",
       "      <th>Fever</th>\n",
       "      <th>Nausea/Vomting</th>\n",
       "      <th>Headache</th>\n",
       "      <th>Diarrhea</th>\n",
       "      <th>Fatigue&amp;generalizedboneache</th>\n",
       "      <th>Jaundice</th>\n",
       "      <th>Epigastricpain</th>\n",
       "      <th>...</th>\n",
       "      <th>ALT48</th>\n",
       "      <th>ALTafter24w</th>\n",
       "      <th>RNABase</th>\n",
       "      <th>RNA4</th>\n",
       "      <th>RNA12</th>\n",
       "      <th>RNAEOT</th>\n",
       "      <th>RNAEF</th>\n",
       "      <th>BaselinehistologicalGrading</th>\n",
       "      <th>Baselinehistologicalstaging</th>\n",
       "      <th>Outcome</th>\n",
       "    </tr>\n",
       "  </thead>\n",
       "  <tbody>\n",
       "    <tr>\n",
       "      <th>count</th>\n",
       "      <td>1385.000000</td>\n",
       "      <td>1385.000000</td>\n",
       "      <td>1385.000000</td>\n",
       "      <td>1385.000000</td>\n",
       "      <td>1385.000000</td>\n",
       "      <td>1385.000000</td>\n",
       "      <td>1385.000000</td>\n",
       "      <td>1385.000000</td>\n",
       "      <td>1385.000000</td>\n",
       "      <td>1385.000000</td>\n",
       "      <td>...</td>\n",
       "      <td>1385.000000</td>\n",
       "      <td>1385.000000</td>\n",
       "      <td>1.385000e+03</td>\n",
       "      <td>1.385000e+03</td>\n",
       "      <td>1.385000e+03</td>\n",
       "      <td>1385.000000</td>\n",
       "      <td>1385.000000</td>\n",
       "      <td>1385.000000</td>\n",
       "      <td>1385.000000</td>\n",
       "      <td>1385.000000</td>\n",
       "    </tr>\n",
       "    <tr>\n",
       "      <th>mean</th>\n",
       "      <td>46.319134</td>\n",
       "      <td>1.489531</td>\n",
       "      <td>28.608664</td>\n",
       "      <td>1.515523</td>\n",
       "      <td>1.502527</td>\n",
       "      <td>1.496029</td>\n",
       "      <td>1.502527</td>\n",
       "      <td>1.498917</td>\n",
       "      <td>1.501083</td>\n",
       "      <td>1.503971</td>\n",
       "      <td>...</td>\n",
       "      <td>83.629603</td>\n",
       "      <td>33.438267</td>\n",
       "      <td>5.909512e+05</td>\n",
       "      <td>6.008956e+05</td>\n",
       "      <td>2.887536e+05</td>\n",
       "      <td>287660.336462</td>\n",
       "      <td>291378.290975</td>\n",
       "      <td>9.761733</td>\n",
       "      <td>2.536462</td>\n",
       "      <td>0.261372</td>\n",
       "    </tr>\n",
       "    <tr>\n",
       "      <th>std</th>\n",
       "      <td>8.781506</td>\n",
       "      <td>0.500071</td>\n",
       "      <td>4.076215</td>\n",
       "      <td>0.499939</td>\n",
       "      <td>0.500174</td>\n",
       "      <td>0.500165</td>\n",
       "      <td>0.500174</td>\n",
       "      <td>0.500179</td>\n",
       "      <td>0.500179</td>\n",
       "      <td>0.500165</td>\n",
       "      <td>...</td>\n",
       "      <td>26.223955</td>\n",
       "      <td>7.073569</td>\n",
       "      <td>3.539354e+05</td>\n",
       "      <td>3.623151e+05</td>\n",
       "      <td>2.853507e+05</td>\n",
       "      <td>264559.525070</td>\n",
       "      <td>267700.691713</td>\n",
       "      <td>4.023896</td>\n",
       "      <td>1.121392</td>\n",
       "      <td>0.439541</td>\n",
       "    </tr>\n",
       "    <tr>\n",
       "      <th>min</th>\n",
       "      <td>32.000000</td>\n",
       "      <td>1.000000</td>\n",
       "      <td>22.000000</td>\n",
       "      <td>1.000000</td>\n",
       "      <td>1.000000</td>\n",
       "      <td>1.000000</td>\n",
       "      <td>1.000000</td>\n",
       "      <td>1.000000</td>\n",
       "      <td>1.000000</td>\n",
       "      <td>1.000000</td>\n",
       "      <td>...</td>\n",
       "      <td>5.000000</td>\n",
       "      <td>5.000000</td>\n",
       "      <td>1.100000e+01</td>\n",
       "      <td>5.000000e+00</td>\n",
       "      <td>5.000000e+00</td>\n",
       "      <td>5.000000</td>\n",
       "      <td>5.000000</td>\n",
       "      <td>3.000000</td>\n",
       "      <td>1.000000</td>\n",
       "      <td>0.000000</td>\n",
       "    </tr>\n",
       "    <tr>\n",
       "      <th>25%</th>\n",
       "      <td>39.000000</td>\n",
       "      <td>1.000000</td>\n",
       "      <td>25.000000</td>\n",
       "      <td>1.000000</td>\n",
       "      <td>1.000000</td>\n",
       "      <td>1.000000</td>\n",
       "      <td>1.000000</td>\n",
       "      <td>1.000000</td>\n",
       "      <td>1.000000</td>\n",
       "      <td>1.000000</td>\n",
       "      <td>...</td>\n",
       "      <td>61.000000</td>\n",
       "      <td>28.000000</td>\n",
       "      <td>2.692530e+05</td>\n",
       "      <td>2.708930e+05</td>\n",
       "      <td>5.000000e+00</td>\n",
       "      <td>5.000000</td>\n",
       "      <td>5.000000</td>\n",
       "      <td>6.000000</td>\n",
       "      <td>2.000000</td>\n",
       "      <td>0.000000</td>\n",
       "    </tr>\n",
       "    <tr>\n",
       "      <th>50%</th>\n",
       "      <td>46.000000</td>\n",
       "      <td>1.000000</td>\n",
       "      <td>29.000000</td>\n",
       "      <td>2.000000</td>\n",
       "      <td>2.000000</td>\n",
       "      <td>1.000000</td>\n",
       "      <td>2.000000</td>\n",
       "      <td>1.000000</td>\n",
       "      <td>2.000000</td>\n",
       "      <td>2.000000</td>\n",
       "      <td>...</td>\n",
       "      <td>83.000000</td>\n",
       "      <td>34.000000</td>\n",
       "      <td>5.931030e+05</td>\n",
       "      <td>5.978690e+05</td>\n",
       "      <td>2.343590e+05</td>\n",
       "      <td>251376.000000</td>\n",
       "      <td>244049.000000</td>\n",
       "      <td>10.000000</td>\n",
       "      <td>3.000000</td>\n",
       "      <td>0.000000</td>\n",
       "    </tr>\n",
       "    <tr>\n",
       "      <th>75%</th>\n",
       "      <td>54.000000</td>\n",
       "      <td>2.000000</td>\n",
       "      <td>32.000000</td>\n",
       "      <td>2.000000</td>\n",
       "      <td>2.000000</td>\n",
       "      <td>2.000000</td>\n",
       "      <td>2.000000</td>\n",
       "      <td>2.000000</td>\n",
       "      <td>2.000000</td>\n",
       "      <td>2.000000</td>\n",
       "      <td>...</td>\n",
       "      <td>106.000000</td>\n",
       "      <td>40.000000</td>\n",
       "      <td>8.867910e+05</td>\n",
       "      <td>9.090930e+05</td>\n",
       "      <td>5.248190e+05</td>\n",
       "      <td>517806.000000</td>\n",
       "      <td>527864.000000</td>\n",
       "      <td>13.000000</td>\n",
       "      <td>4.000000</td>\n",
       "      <td>1.000000</td>\n",
       "    </tr>\n",
       "    <tr>\n",
       "      <th>max</th>\n",
       "      <td>61.000000</td>\n",
       "      <td>2.000000</td>\n",
       "      <td>35.000000</td>\n",
       "      <td>2.000000</td>\n",
       "      <td>2.000000</td>\n",
       "      <td>2.000000</td>\n",
       "      <td>2.000000</td>\n",
       "      <td>2.000000</td>\n",
       "      <td>2.000000</td>\n",
       "      <td>2.000000</td>\n",
       "      <td>...</td>\n",
       "      <td>128.000000</td>\n",
       "      <td>45.000000</td>\n",
       "      <td>1.201086e+06</td>\n",
       "      <td>1.201715e+06</td>\n",
       "      <td>3.731527e+06</td>\n",
       "      <td>808450.000000</td>\n",
       "      <td>810333.000000</td>\n",
       "      <td>16.000000</td>\n",
       "      <td>4.000000</td>\n",
       "      <td>1.000000</td>\n",
       "    </tr>\n",
       "  </tbody>\n",
       "</table>\n",
       "<p>8 rows × 30 columns</p>\n",
       "</div>"
      ],
      "text/plain": [
       "               Age       Gender          BMI        Fever  Nausea/Vomting  \\\n",
       "count  1385.000000  1385.000000  1385.000000  1385.000000     1385.000000   \n",
       "mean     46.319134     1.489531    28.608664     1.515523        1.502527   \n",
       "std       8.781506     0.500071     4.076215     0.499939        0.500174   \n",
       "min      32.000000     1.000000    22.000000     1.000000        1.000000   \n",
       "25%      39.000000     1.000000    25.000000     1.000000        1.000000   \n",
       "50%      46.000000     1.000000    29.000000     2.000000        2.000000   \n",
       "75%      54.000000     2.000000    32.000000     2.000000        2.000000   \n",
       "max      61.000000     2.000000    35.000000     2.000000        2.000000   \n",
       "\n",
       "          Headache     Diarrhea  Fatigue&generalizedboneache     Jaundice  \\\n",
       "count  1385.000000  1385.000000                  1385.000000  1385.000000   \n",
       "mean      1.496029     1.502527                     1.498917     1.501083   \n",
       "std       0.500165     0.500174                     0.500179     0.500179   \n",
       "min       1.000000     1.000000                     1.000000     1.000000   \n",
       "25%       1.000000     1.000000                     1.000000     1.000000   \n",
       "50%       1.000000     2.000000                     1.000000     2.000000   \n",
       "75%       2.000000     2.000000                     2.000000     2.000000   \n",
       "max       2.000000     2.000000                     2.000000     2.000000   \n",
       "\n",
       "       Epigastricpain  ...        ALT48  ALTafter24w       RNABase  \\\n",
       "count     1385.000000  ...  1385.000000  1385.000000  1.385000e+03   \n",
       "mean         1.503971  ...    83.629603    33.438267  5.909512e+05   \n",
       "std          0.500165  ...    26.223955     7.073569  3.539354e+05   \n",
       "min          1.000000  ...     5.000000     5.000000  1.100000e+01   \n",
       "25%          1.000000  ...    61.000000    28.000000  2.692530e+05   \n",
       "50%          2.000000  ...    83.000000    34.000000  5.931030e+05   \n",
       "75%          2.000000  ...   106.000000    40.000000  8.867910e+05   \n",
       "max          2.000000  ...   128.000000    45.000000  1.201086e+06   \n",
       "\n",
       "               RNA4         RNA12         RNAEOT          RNAEF  \\\n",
       "count  1.385000e+03  1.385000e+03    1385.000000    1385.000000   \n",
       "mean   6.008956e+05  2.887536e+05  287660.336462  291378.290975   \n",
       "std    3.623151e+05  2.853507e+05  264559.525070  267700.691713   \n",
       "min    5.000000e+00  5.000000e+00       5.000000       5.000000   \n",
       "25%    2.708930e+05  5.000000e+00       5.000000       5.000000   \n",
       "50%    5.978690e+05  2.343590e+05  251376.000000  244049.000000   \n",
       "75%    9.090930e+05  5.248190e+05  517806.000000  527864.000000   \n",
       "max    1.201715e+06  3.731527e+06  808450.000000  810333.000000   \n",
       "\n",
       "       BaselinehistologicalGrading  Baselinehistologicalstaging      Outcome  \n",
       "count                  1385.000000                  1385.000000  1385.000000  \n",
       "mean                      9.761733                     2.536462     0.261372  \n",
       "std                       4.023896                     1.121392     0.439541  \n",
       "min                       3.000000                     1.000000     0.000000  \n",
       "25%                       6.000000                     2.000000     0.000000  \n",
       "50%                      10.000000                     3.000000     0.000000  \n",
       "75%                      13.000000                     4.000000     1.000000  \n",
       "max                      16.000000                     4.000000     1.000000  \n",
       "\n",
       "[8 rows x 30 columns]"
      ]
     },
     "execution_count": 10,
     "metadata": {},
     "output_type": "execute_result"
    }
   ],
   "source": [
    "# Describe data\n",
    "data.describe()"
   ]
  },
  {
   "cell_type": "code",
   "execution_count": 11,
   "metadata": {},
   "outputs": [
    {
     "data": {
      "text/html": [
       "<div>\n",
       "<style scoped>\n",
       "    .dataframe tbody tr th:only-of-type {\n",
       "        vertical-align: middle;\n",
       "    }\n",
       "\n",
       "    .dataframe tbody tr th {\n",
       "        vertical-align: top;\n",
       "    }\n",
       "\n",
       "    .dataframe thead th {\n",
       "        text-align: right;\n",
       "    }\n",
       "</style>\n",
       "<table border=\"1\" class=\"dataframe\">\n",
       "  <thead>\n",
       "    <tr style=\"text-align: right;\">\n",
       "      <th></th>\n",
       "      <th>Age</th>\n",
       "      <th>Gender</th>\n",
       "      <th>BMI</th>\n",
       "      <th>Fever</th>\n",
       "      <th>Nausea/Vomting</th>\n",
       "      <th>Headache</th>\n",
       "      <th>Diarrhea</th>\n",
       "      <th>Fatigue&amp;generalizedboneache</th>\n",
       "      <th>Jaundice</th>\n",
       "      <th>Epigastricpain</th>\n",
       "      <th>...</th>\n",
       "      <th>ALTafter24w</th>\n",
       "      <th>RNABase</th>\n",
       "      <th>RNA4</th>\n",
       "      <th>RNA12</th>\n",
       "      <th>RNAEOT</th>\n",
       "      <th>RNAEF</th>\n",
       "      <th>BaselinehistologicalGrading</th>\n",
       "      <th>Baselinehistologicalstaging</th>\n",
       "      <th>Histologicalstaging</th>\n",
       "      <th>Outcome</th>\n",
       "    </tr>\n",
       "  </thead>\n",
       "  <tbody>\n",
       "    <tr>\n",
       "      <th>count</th>\n",
       "      <td>1385.000000</td>\n",
       "      <td>1385.000000</td>\n",
       "      <td>1385.000000</td>\n",
       "      <td>1385.000000</td>\n",
       "      <td>1385.000000</td>\n",
       "      <td>1385.000000</td>\n",
       "      <td>1385.000000</td>\n",
       "      <td>1385.000000</td>\n",
       "      <td>1385.000000</td>\n",
       "      <td>1385.000000</td>\n",
       "      <td>...</td>\n",
       "      <td>1385.000000</td>\n",
       "      <td>1.385000e+03</td>\n",
       "      <td>1.385000e+03</td>\n",
       "      <td>1.385000e+03</td>\n",
       "      <td>1385.000000</td>\n",
       "      <td>1385.000000</td>\n",
       "      <td>1385.000000</td>\n",
       "      <td>1385.000000</td>\n",
       "      <td>1385</td>\n",
       "      <td>1385.000000</td>\n",
       "    </tr>\n",
       "    <tr>\n",
       "      <th>unique</th>\n",
       "      <td>NaN</td>\n",
       "      <td>NaN</td>\n",
       "      <td>NaN</td>\n",
       "      <td>NaN</td>\n",
       "      <td>NaN</td>\n",
       "      <td>NaN</td>\n",
       "      <td>NaN</td>\n",
       "      <td>NaN</td>\n",
       "      <td>NaN</td>\n",
       "      <td>NaN</td>\n",
       "      <td>...</td>\n",
       "      <td>NaN</td>\n",
       "      <td>NaN</td>\n",
       "      <td>NaN</td>\n",
       "      <td>NaN</td>\n",
       "      <td>NaN</td>\n",
       "      <td>NaN</td>\n",
       "      <td>NaN</td>\n",
       "      <td>NaN</td>\n",
       "      <td>4</td>\n",
       "      <td>NaN</td>\n",
       "    </tr>\n",
       "    <tr>\n",
       "      <th>top</th>\n",
       "      <td>NaN</td>\n",
       "      <td>NaN</td>\n",
       "      <td>NaN</td>\n",
       "      <td>NaN</td>\n",
       "      <td>NaN</td>\n",
       "      <td>NaN</td>\n",
       "      <td>NaN</td>\n",
       "      <td>NaN</td>\n",
       "      <td>NaN</td>\n",
       "      <td>NaN</td>\n",
       "      <td>...</td>\n",
       "      <td>NaN</td>\n",
       "      <td>NaN</td>\n",
       "      <td>NaN</td>\n",
       "      <td>NaN</td>\n",
       "      <td>NaN</td>\n",
       "      <td>NaN</td>\n",
       "      <td>NaN</td>\n",
       "      <td>NaN</td>\n",
       "      <td>Cirrhosis</td>\n",
       "      <td>NaN</td>\n",
       "    </tr>\n",
       "    <tr>\n",
       "      <th>freq</th>\n",
       "      <td>NaN</td>\n",
       "      <td>NaN</td>\n",
       "      <td>NaN</td>\n",
       "      <td>NaN</td>\n",
       "      <td>NaN</td>\n",
       "      <td>NaN</td>\n",
       "      <td>NaN</td>\n",
       "      <td>NaN</td>\n",
       "      <td>NaN</td>\n",
       "      <td>NaN</td>\n",
       "      <td>...</td>\n",
       "      <td>NaN</td>\n",
       "      <td>NaN</td>\n",
       "      <td>NaN</td>\n",
       "      <td>NaN</td>\n",
       "      <td>NaN</td>\n",
       "      <td>NaN</td>\n",
       "      <td>NaN</td>\n",
       "      <td>NaN</td>\n",
       "      <td>362</td>\n",
       "      <td>NaN</td>\n",
       "    </tr>\n",
       "    <tr>\n",
       "      <th>mean</th>\n",
       "      <td>46.319134</td>\n",
       "      <td>1.489531</td>\n",
       "      <td>28.608664</td>\n",
       "      <td>1.515523</td>\n",
       "      <td>1.502527</td>\n",
       "      <td>1.496029</td>\n",
       "      <td>1.502527</td>\n",
       "      <td>1.498917</td>\n",
       "      <td>1.501083</td>\n",
       "      <td>1.503971</td>\n",
       "      <td>...</td>\n",
       "      <td>33.438267</td>\n",
       "      <td>5.909512e+05</td>\n",
       "      <td>6.008956e+05</td>\n",
       "      <td>2.887536e+05</td>\n",
       "      <td>287660.336462</td>\n",
       "      <td>291378.290975</td>\n",
       "      <td>9.761733</td>\n",
       "      <td>2.536462</td>\n",
       "      <td>NaN</td>\n",
       "      <td>0.261372</td>\n",
       "    </tr>\n",
       "    <tr>\n",
       "      <th>std</th>\n",
       "      <td>8.781506</td>\n",
       "      <td>0.500071</td>\n",
       "      <td>4.076215</td>\n",
       "      <td>0.499939</td>\n",
       "      <td>0.500174</td>\n",
       "      <td>0.500165</td>\n",
       "      <td>0.500174</td>\n",
       "      <td>0.500179</td>\n",
       "      <td>0.500179</td>\n",
       "      <td>0.500165</td>\n",
       "      <td>...</td>\n",
       "      <td>7.073569</td>\n",
       "      <td>3.539354e+05</td>\n",
       "      <td>3.623151e+05</td>\n",
       "      <td>2.853507e+05</td>\n",
       "      <td>264559.525070</td>\n",
       "      <td>267700.691713</td>\n",
       "      <td>4.023896</td>\n",
       "      <td>1.121392</td>\n",
       "      <td>NaN</td>\n",
       "      <td>0.439541</td>\n",
       "    </tr>\n",
       "    <tr>\n",
       "      <th>min</th>\n",
       "      <td>32.000000</td>\n",
       "      <td>1.000000</td>\n",
       "      <td>22.000000</td>\n",
       "      <td>1.000000</td>\n",
       "      <td>1.000000</td>\n",
       "      <td>1.000000</td>\n",
       "      <td>1.000000</td>\n",
       "      <td>1.000000</td>\n",
       "      <td>1.000000</td>\n",
       "      <td>1.000000</td>\n",
       "      <td>...</td>\n",
       "      <td>5.000000</td>\n",
       "      <td>1.100000e+01</td>\n",
       "      <td>5.000000e+00</td>\n",
       "      <td>5.000000e+00</td>\n",
       "      <td>5.000000</td>\n",
       "      <td>5.000000</td>\n",
       "      <td>3.000000</td>\n",
       "      <td>1.000000</td>\n",
       "      <td>NaN</td>\n",
       "      <td>0.000000</td>\n",
       "    </tr>\n",
       "    <tr>\n",
       "      <th>25%</th>\n",
       "      <td>39.000000</td>\n",
       "      <td>1.000000</td>\n",
       "      <td>25.000000</td>\n",
       "      <td>1.000000</td>\n",
       "      <td>1.000000</td>\n",
       "      <td>1.000000</td>\n",
       "      <td>1.000000</td>\n",
       "      <td>1.000000</td>\n",
       "      <td>1.000000</td>\n",
       "      <td>1.000000</td>\n",
       "      <td>...</td>\n",
       "      <td>28.000000</td>\n",
       "      <td>2.692530e+05</td>\n",
       "      <td>2.708930e+05</td>\n",
       "      <td>5.000000e+00</td>\n",
       "      <td>5.000000</td>\n",
       "      <td>5.000000</td>\n",
       "      <td>6.000000</td>\n",
       "      <td>2.000000</td>\n",
       "      <td>NaN</td>\n",
       "      <td>0.000000</td>\n",
       "    </tr>\n",
       "    <tr>\n",
       "      <th>50%</th>\n",
       "      <td>46.000000</td>\n",
       "      <td>1.000000</td>\n",
       "      <td>29.000000</td>\n",
       "      <td>2.000000</td>\n",
       "      <td>2.000000</td>\n",
       "      <td>1.000000</td>\n",
       "      <td>2.000000</td>\n",
       "      <td>1.000000</td>\n",
       "      <td>2.000000</td>\n",
       "      <td>2.000000</td>\n",
       "      <td>...</td>\n",
       "      <td>34.000000</td>\n",
       "      <td>5.931030e+05</td>\n",
       "      <td>5.978690e+05</td>\n",
       "      <td>2.343590e+05</td>\n",
       "      <td>251376.000000</td>\n",
       "      <td>244049.000000</td>\n",
       "      <td>10.000000</td>\n",
       "      <td>3.000000</td>\n",
       "      <td>NaN</td>\n",
       "      <td>0.000000</td>\n",
       "    </tr>\n",
       "    <tr>\n",
       "      <th>75%</th>\n",
       "      <td>54.000000</td>\n",
       "      <td>2.000000</td>\n",
       "      <td>32.000000</td>\n",
       "      <td>2.000000</td>\n",
       "      <td>2.000000</td>\n",
       "      <td>2.000000</td>\n",
       "      <td>2.000000</td>\n",
       "      <td>2.000000</td>\n",
       "      <td>2.000000</td>\n",
       "      <td>2.000000</td>\n",
       "      <td>...</td>\n",
       "      <td>40.000000</td>\n",
       "      <td>8.867910e+05</td>\n",
       "      <td>9.090930e+05</td>\n",
       "      <td>5.248190e+05</td>\n",
       "      <td>517806.000000</td>\n",
       "      <td>527864.000000</td>\n",
       "      <td>13.000000</td>\n",
       "      <td>4.000000</td>\n",
       "      <td>NaN</td>\n",
       "      <td>1.000000</td>\n",
       "    </tr>\n",
       "    <tr>\n",
       "      <th>max</th>\n",
       "      <td>61.000000</td>\n",
       "      <td>2.000000</td>\n",
       "      <td>35.000000</td>\n",
       "      <td>2.000000</td>\n",
       "      <td>2.000000</td>\n",
       "      <td>2.000000</td>\n",
       "      <td>2.000000</td>\n",
       "      <td>2.000000</td>\n",
       "      <td>2.000000</td>\n",
       "      <td>2.000000</td>\n",
       "      <td>...</td>\n",
       "      <td>45.000000</td>\n",
       "      <td>1.201086e+06</td>\n",
       "      <td>1.201715e+06</td>\n",
       "      <td>3.731527e+06</td>\n",
       "      <td>808450.000000</td>\n",
       "      <td>810333.000000</td>\n",
       "      <td>16.000000</td>\n",
       "      <td>4.000000</td>\n",
       "      <td>NaN</td>\n",
       "      <td>1.000000</td>\n",
       "    </tr>\n",
       "  </tbody>\n",
       "</table>\n",
       "<p>11 rows × 31 columns</p>\n",
       "</div>"
      ],
      "text/plain": [
       "                Age       Gender          BMI        Fever  Nausea/Vomting  \\\n",
       "count   1385.000000  1385.000000  1385.000000  1385.000000     1385.000000   \n",
       "unique          NaN          NaN          NaN          NaN             NaN   \n",
       "top             NaN          NaN          NaN          NaN             NaN   \n",
       "freq            NaN          NaN          NaN          NaN             NaN   \n",
       "mean      46.319134     1.489531    28.608664     1.515523        1.502527   \n",
       "std        8.781506     0.500071     4.076215     0.499939        0.500174   \n",
       "min       32.000000     1.000000    22.000000     1.000000        1.000000   \n",
       "25%       39.000000     1.000000    25.000000     1.000000        1.000000   \n",
       "50%       46.000000     1.000000    29.000000     2.000000        2.000000   \n",
       "75%       54.000000     2.000000    32.000000     2.000000        2.000000   \n",
       "max       61.000000     2.000000    35.000000     2.000000        2.000000   \n",
       "\n",
       "           Headache     Diarrhea  Fatigue&generalizedboneache     Jaundice  \\\n",
       "count   1385.000000  1385.000000                  1385.000000  1385.000000   \n",
       "unique          NaN          NaN                          NaN          NaN   \n",
       "top             NaN          NaN                          NaN          NaN   \n",
       "freq            NaN          NaN                          NaN          NaN   \n",
       "mean       1.496029     1.502527                     1.498917     1.501083   \n",
       "std        0.500165     0.500174                     0.500179     0.500179   \n",
       "min        1.000000     1.000000                     1.000000     1.000000   \n",
       "25%        1.000000     1.000000                     1.000000     1.000000   \n",
       "50%        1.000000     2.000000                     1.000000     2.000000   \n",
       "75%        2.000000     2.000000                     2.000000     2.000000   \n",
       "max        2.000000     2.000000                     2.000000     2.000000   \n",
       "\n",
       "        Epigastricpain  ...  ALTafter24w       RNABase          RNA4  \\\n",
       "count      1385.000000  ...  1385.000000  1.385000e+03  1.385000e+03   \n",
       "unique             NaN  ...          NaN           NaN           NaN   \n",
       "top                NaN  ...          NaN           NaN           NaN   \n",
       "freq               NaN  ...          NaN           NaN           NaN   \n",
       "mean          1.503971  ...    33.438267  5.909512e+05  6.008956e+05   \n",
       "std           0.500165  ...     7.073569  3.539354e+05  3.623151e+05   \n",
       "min           1.000000  ...     5.000000  1.100000e+01  5.000000e+00   \n",
       "25%           1.000000  ...    28.000000  2.692530e+05  2.708930e+05   \n",
       "50%           2.000000  ...    34.000000  5.931030e+05  5.978690e+05   \n",
       "75%           2.000000  ...    40.000000  8.867910e+05  9.090930e+05   \n",
       "max           2.000000  ...    45.000000  1.201086e+06  1.201715e+06   \n",
       "\n",
       "               RNA12         RNAEOT          RNAEF  \\\n",
       "count   1.385000e+03    1385.000000    1385.000000   \n",
       "unique           NaN            NaN            NaN   \n",
       "top              NaN            NaN            NaN   \n",
       "freq             NaN            NaN            NaN   \n",
       "mean    2.887536e+05  287660.336462  291378.290975   \n",
       "std     2.853507e+05  264559.525070  267700.691713   \n",
       "min     5.000000e+00       5.000000       5.000000   \n",
       "25%     5.000000e+00       5.000000       5.000000   \n",
       "50%     2.343590e+05  251376.000000  244049.000000   \n",
       "75%     5.248190e+05  517806.000000  527864.000000   \n",
       "max     3.731527e+06  808450.000000  810333.000000   \n",
       "\n",
       "        BaselinehistologicalGrading  Baselinehistologicalstaging  \\\n",
       "count                   1385.000000                  1385.000000   \n",
       "unique                          NaN                          NaN   \n",
       "top                             NaN                          NaN   \n",
       "freq                            NaN                          NaN   \n",
       "mean                       9.761733                     2.536462   \n",
       "std                        4.023896                     1.121392   \n",
       "min                        3.000000                     1.000000   \n",
       "25%                        6.000000                     2.000000   \n",
       "50%                       10.000000                     3.000000   \n",
       "75%                       13.000000                     4.000000   \n",
       "max                       16.000000                     4.000000   \n",
       "\n",
       "        Histologicalstaging      Outcome  \n",
       "count                  1385  1385.000000  \n",
       "unique                    4          NaN  \n",
       "top               Cirrhosis          NaN  \n",
       "freq                    362          NaN  \n",
       "mean                    NaN     0.261372  \n",
       "std                     NaN     0.439541  \n",
       "min                     NaN     0.000000  \n",
       "25%                     NaN     0.000000  \n",
       "50%                     NaN     0.000000  \n",
       "75%                     NaN     1.000000  \n",
       "max                     NaN     1.000000  \n",
       "\n",
       "[11 rows x 31 columns]"
      ]
     },
     "execution_count": 11,
     "metadata": {},
     "output_type": "execute_result"
    }
   ],
   "source": [
    "data.describe(include='all') #For categorical data."
   ]
  },
  {
   "cell_type": "code",
   "execution_count": 12,
   "metadata": {},
   "outputs": [
    {
     "name": "stdout",
     "output_type": "stream",
     "text": [
      "(1385, 31)\n"
     ]
    }
   ],
   "source": [
    "# Number of entries in the dataset:\n",
    "print(data.shape)"
   ]
  },
  {
   "cell_type": "code",
   "execution_count": 13,
   "metadata": {},
   "outputs": [
    {
     "name": "stdout",
     "output_type": "stream",
     "text": [
      "Age                              30\n",
      "Gender                            2\n",
      "BMI                              14\n",
      "Fever                             2\n",
      "Nausea/Vomting                    2\n",
      "Headache                          2\n",
      "Diarrhea                          2\n",
      "Fatigue&generalizedboneache       2\n",
      "Jaundice                          2\n",
      "Epigastricpain                    2\n",
      "WBC                            1305\n",
      "RBC                            1384\n",
      "HGB                               6\n",
      "Plat                           1375\n",
      "AST1                             90\n",
      "ALT1                             90\n",
      "ALT4                             90\n",
      "ALT12                            90\n",
      "ALT24                            90\n",
      "ALT36                            91\n",
      "ALT48                            91\n",
      "ALTafter24w                      25\n",
      "RNABase                        1384\n",
      "RNA4                           1384\n",
      "RNA12                          1001\n",
      "RNAEOT                         1002\n",
      "RNAEF                          1004\n",
      "BaselinehistologicalGrading      14\n",
      "Baselinehistologicalstaging       4\n",
      "Histologicalstaging               4\n",
      "Outcome                           2\n",
      "dtype: int64\n"
     ]
    }
   ],
   "source": [
    "# Total number of unique values per variable\n",
    "print(data.nunique())"
   ]
  },
  {
   "cell_type": "code",
   "execution_count": 14,
   "metadata": {},
   "outputs": [
    {
     "data": {
      "text/plain": [
       "15    139\n",
       "11    121\n",
       "14    106\n",
       "9     103\n",
       "6     102\n",
       "12    101\n",
       "8      97\n",
       "13     95\n",
       "4      94\n",
       "5      93\n",
       "3      89\n",
       "10     87\n",
       "16     86\n",
       "7      72\n",
       "Name: BaselinehistologicalGrading, dtype: int64"
      ]
     },
     "execution_count": 14,
     "metadata": {},
     "output_type": "execute_result"
    }
   ],
   "source": [
    "data[\"BaselinehistologicalGrading\"].value_counts() "
   ]
  },
  {
   "cell_type": "code",
   "execution_count": 15,
   "metadata": {},
   "outputs": [
    {
     "data": {
      "text/plain": [
       "Cirrhosis         362\n",
       "ManySepta         355\n",
       "PortalFibrosis    336\n",
       "FewSepta          332\n",
       "NoFibrosis          0\n",
       "Name: Histologicalstaging, dtype: int64"
      ]
     },
     "execution_count": 15,
     "metadata": {},
     "output_type": "execute_result"
    }
   ],
   "source": [
    "data[\"Histologicalstaging\"].value_counts() "
   ]
  },
  {
   "cell_type": "code",
   "execution_count": 16,
   "metadata": {},
   "outputs": [
    {
     "data": {
      "text/plain": [
       "0    1023\n",
       "1     362\n",
       "Name: Outcome, dtype: int64"
      ]
     },
     "execution_count": 16,
     "metadata": {},
     "output_type": "execute_result"
    }
   ],
   "source": [
    "data[\"Outcome\"].value_counts() "
   ]
  },
  {
   "cell_type": "markdown",
   "metadata": {},
   "source": [
    "## 4.- Analyzing Feature Patterns using Visualization"
   ]
  },
  {
   "cell_type": "markdown",
   "metadata": {},
   "source": [
    "#### a) Visualize the histograms of the variables in the database, choosing a number of intervals suitable for each variable. Justify this choice."
   ]
  },
  {
   "cell_type": "code",
   "execution_count": 17,
   "metadata": {},
   "outputs": [
    {
     "data": {
      "image/png": "[encoded data removed]",
      "text/plain": [
       "<Figure size 1584x2016 with 30 Axes>"
      ]
     },
     "metadata": {
      "needs_background": "light"
     },
     "output_type": "display_data"
    }
   ],
   "source": [
    "data.hist(figsize=(22, 28), bins=40, xlabelsize=8, ylabelsize=8); "
   ]
  },
  {
   "cell_type": "code",
   "execution_count": null,
   "metadata": {},
   "outputs": [],
   "source": []
  },
  {
   "cell_type": "markdown",
   "metadata": {},
   "source": [
    "##  12.-  Training, validation and test sets"
   ]
  },
  {
   "cell_type": "markdown",
   "metadata": {},
   "source": [
    "The available cases will be now separated into two subsets, without sharing any case in common:\n",
    "\n",
    "- Training subset\n",
    "- Test subset\n",
    "\n",
    "The training subset will be used for the learning of some models. And the test subset will be used lately to estimate the final performance.\n",
    "\n",
    "For the separation into subsets, the following issues have been taken into account:"
   ]
  },
  {
   "cell_type": "markdown",
   "metadata": {},
   "source": [
    "##### a) What percentage of available cases will you consider in the training subset? And in the test subset?\n",
    "\n",
    "Training set (75%)\n",
    "\n",
    "Test set (25%)"
   ]
  },
  {
   "cell_type": "markdown",
   "metadata": {},
   "source": [
    "##### b) Consider that you build a binary classifier (two classes, C1 and C2). Discuss what would happen when evaluating the classifier's performance if the training subset with which the classifier is designed had almost all the cases of class C1 and the test subset had almost all the cases of class C2.\n",
    "\n",
    "This would mean that the distribution of the datasets was not done in a balanced way, so the final performance of the predictive model will not work properly."
   ]
  },
  {
   "cell_type": "markdown",
   "metadata": {},
   "source": [
    "##### c) How could you avoid overtraining in the design of the classifier? What would be the process to be followed to find the best parameters of that model?\n",
    "\n",
    "To avoid overtraining in the design of the classifier, the training set is divided again into training set and validation set, but before that, part of the dataset should be divided as X data (containing almost all of the variables) and Y data (containing the output). And the process to find the best paramets will be the cross-validation or grid search techniques within the subsets previously mentioned."
   ]
  },
  {
   "cell_type": "markdown",
   "metadata": {},
   "source": [
    "##### e) Discuss what you should do with the original data set if you find that the distribution of the test subset cases is different from the distribution of the training subset.\n",
    "\n",
    "In that case, the solution will be to use a Stratified K-fold validation, which is a variation of the classifier where each set contains approximately the same percentage of samples for each class."
   ]
  },
  {
   "cell_type": "markdown",
   "metadata": {},
   "source": [
    "## Training:"
   ]
  },
  {
   "cell_type": "code",
   "execution_count": 18,
   "metadata": {},
   "outputs": [
    {
     "data": {
      "text/plain": [
       "((1385, 30), (1385,))"
      ]
     },
     "execution_count": 18,
     "metadata": {},
     "output_type": "execute_result"
    }
   ],
   "source": [
    "#Create input and output data\n",
    "\n",
    "\n",
    "c = list(data.columns)\n",
    "c.remove('Histologicalstaging') #Remove the categorical values\n",
    "\n",
    "x = data[c]\n",
    "y = data['Outcome']\n",
    "\n",
    "x.shape, y.shape"
   ]
  },
  {
   "cell_type": "code",
   "execution_count": 19,
   "metadata": {},
   "outputs": [],
   "source": [
    "# Split the data set in two different subsets: training and test\n",
    "from sklearn.model_selection import train_test_split\n",
    "from sklearn.utils import shuffle\n",
    "\n",
    "x, y = shuffle(x,y, random_state=0)      # The random state is used to obtain always ths same partition\n",
    "X_train, X_test, Y_train, Y_test = train_test_split(x, y,random_state=0) # By default 75% and 25%"
   ]
  },
  {
   "cell_type": "code",
   "execution_count": 20,
   "metadata": {},
   "outputs": [],
   "source": [
    "# Normalize variables\n",
    "# IMPORTANT!! You will use the mean and the standard desviation of the training set, to normalize the test set\n",
    "# In a real scenario, you don't know the test set in advance\n",
    "from sklearn.preprocessing import StandardScaler\n",
    "\n",
    "scaler = StandardScaler()\n",
    "scaler.fit(X_train)\n",
    "X_train_norm = scaler.transform(X_train)\n",
    "X_test_norm = scaler.transform(X_test)"
   ]
  },
  {
   "cell_type": "code",
   "execution_count": 21,
   "metadata": {},
   "outputs": [],
   "source": [
    "from sklearn import svm\n",
    "\n",
    "#clf = svm.SVC(kernel='linear', C=1).fit(X_train, Y_train)\n",
    "#clf.score(X_test, Y_test)"
   ]
  },
  {
   "cell_type": "code",
   "execution_count": 22,
   "metadata": {},
   "outputs": [],
   "source": [
    "#X_train.shape"
   ]
  },
  {
   "cell_type": "markdown",
   "metadata": {},
   "source": [
    "## Validation:"
   ]
  },
  {
   "cell_type": "markdown",
   "metadata": {},
   "source": [
    "It can be considered multiple "
   ]
  },
  {
   "cell_type": "code",
   "execution_count": null,
   "metadata": {},
   "outputs": [],
   "source": []
  },
  {
   "cell_type": "markdown",
   "metadata": {},
   "source": [
    "## 7.- Dealing with outliers - Luis"
   ]
  },
  {
   "cell_type": "markdown",
   "metadata": {},
   "source": [
    "##### a) Indicate which variables present anomalous values that could be eliminated and justify how you have identified them.\n",
    "\n",
    "Histograms: thanks to the histograms, we can observe that the following variables have anomalous values that do not match the general behavior of the data.\n",
    "\n",
    "- ALT36\n",
    "- ALT48\n",
    "- ALTafter24w\n",
    "- RNA12\n",
    "\n",
    "Boxplots: With this method, we will be able to only see the most outstanding outliers that are extremely far from the other values. Analyzing the boxplots of each of the variables, we can confirm that the following variables present relevant outliers.\n",
    "\n",
    "- ALTafter24w\n",
    "- RNA12\n",
    "\n"
   ]
  },
  {
   "cell_type": "markdown",
   "metadata": {},
   "source": [
    "##### a) Identifying outliers with Histograms"
   ]
  },
  {
   "cell_type": "code",
   "execution_count": 23,
   "metadata": {},
   "outputs": [
    {
     "data": {
      "image/png": "[encoded data removed]",
      "text/plain": [
       "<Figure size 1152x720 with 4 Axes>"
      ]
     },
     "metadata": {
      "needs_background": "light"
     },
     "output_type": "display_data"
    }
   ],
   "source": [
    "# Thanks to the histograms, we can observe that the following variables have anomalous values \n",
    "# that do not match the general behavior of the data.\n",
    "\n",
    "data.hist(column=['ALT36', 'ALT48', 'ALTafter24w', 'RNA12'], figsize=(16, 10),\n",
    "                   bins=50, xlabelsize=12, ylabelsize=12);"
   ]
  },
  {
   "cell_type": "markdown",
   "metadata": {},
   "source": [
    "##### b) Identifying outliers with Boxplots"
   ]
  },
  {
   "cell_type": "code",
   "execution_count": 24,
   "metadata": {},
   "outputs": [
    {
     "data": {
      "image/png": "[encoded data removed]",
      "text/plain": [
       "<Figure size 864x864 with 9 Axes>"
      ]
     },
     "metadata": {
      "needs_background": "light"
     },
     "output_type": "display_data"
    },
    {
     "data": {
      "image/png": "[encoded data removed]",
      "text/plain": [
       "<Figure size 864x864 with 9 Axes>"
      ]
     },
     "metadata": {
      "needs_background": "light"
     },
     "output_type": "display_data"
    }
   ],
   "source": [
    "# With this method, we will be able to only see the most outstanding outliers that are extremely far \n",
    "# from the other values. Analyzing the boxplots of each of the variables, \n",
    "# we can confirm that the following variables present relevant outliers.\n",
    "\n",
    "data['ALTafter24w'].plot(kind='box', subplots=True, layout=(3,3), sharex=False, sharey=False, figsize=(12,12))\n",
    "plt.show() # FUSIONAR ESTAS DOS LINEAS\n",
    "\n",
    "data['RNA12'].plot(kind='box', subplots=True, layout=(3,3), sharex=False, sharey=False, figsize=(12,12))\n",
    "plt.show()"
   ]
  },
  {
   "cell_type": "markdown",
   "metadata": {},
   "source": [
    "#### c) Identifying Outliers with Interquartile Range"
   ]
  },
  {
   "cell_type": "code",
   "execution_count": 25,
   "metadata": {},
   "outputs": [],
   "source": [
    "# Define the Quartiles and calculate the IQR\n",
    "Q1 = data.quantile(0.25)\n",
    "Q3 = data.quantile(0.75)\n",
    "IQR = Q3 - Q1"
   ]
  },
  {
   "cell_type": "code",
   "execution_count": 26,
   "metadata": {},
   "outputs": [],
   "source": [
    "def outliers_iqr(headers):\n",
    "    \n",
    "    for header in headers:\n",
    "        \n",
    "        # Calculate the bounds\n",
    "        lower_bound = Q1[header]-(1.5*IQR[header])\n",
    "        upper_bound = Q1[header]+(1.5*IQR[header])\n",
    "        \n",
    "        # Identify the outliers below and above the bounds\n",
    "        out1 = data[header].loc[data[header] < lower_bound].tolist()\n",
    "        out2 = data[header].loc[data[header] > upper_bound].tolist()\n",
    "        \n",
    "        print()\n",
    "        print(header.upper())\n",
    "        \n",
    "        print('Lower outliers:')\n",
    "        print(out1)\n",
    "        \n",
    "        print('Upper outliers:')\n",
    "        print(out2)\n",
    "        "
   ]
  },
  {
   "cell_type": "code",
   "execution_count": 27,
   "metadata": {},
   "outputs": [
    {
     "name": "stdout",
     "output_type": "stream",
     "text": [
      "\n",
      "ALTAFTER24W\n",
      "Lower outliers:\n",
      "[5, 5, 5]\n",
      "Upper outliers:\n",
      "[]\n",
      "\n",
      "RNA12\n",
      "Lower outliers:\n",
      "[]\n",
      "Upper outliers:\n",
      "[3731527, 787295, 789780, 787815, 798150, 794351, 793752, 787605, 798117, 797451, 805218, 798485, 809245, 801981, 798990, 787967, 798473, 793701, 805636, 798534, 796911, 798772, 791212, 810028, 793474, 797895, 798555, 797579, 803685, 795047, 794687, 802517, 793719, 789173, 806651, 806109]\n"
     ]
    }
   ],
   "source": [
    "headers = ['ALTafter24w', 'RNA12']\n",
    "outliers_iqr(headers)"
   ]
  },
  {
   "cell_type": "code",
   "execution_count": 28,
   "metadata": {},
   "outputs": [],
   "source": [
    "# The special case of RNA12\n",
    "\n",
    "# As we can observe in the Boxplot made in a), the interquarantile range (IQR) of RNA12\n",
    "# is closer to the minimum value of the whole dataset. Thus, identifying outliers with this method \n",
    "# is not advisable in this case, because we will interpret the values above the Upper Quartile (Q3)\n",
    "# that are closer to the maximum value of the dataset as outliers,\n",
    "# while those values are still within the normal range of the dataset.\n",
    "\n",
    "# That is the reason why we can observe so many outliers for RNA12 using this method."
   ]
  },
  {
   "cell_type": "markdown",
   "metadata": {},
   "source": [
    "#### d) Identifying and eliminating outliers with zscore"
   ]
  },
  {
   "cell_type": "code",
   "execution_count": 29,
   "metadata": {},
   "outputs": [],
   "source": [
    "import pandas as pd\n",
    "from scipy import stats\n",
    "\n",
    "# Z-score will be used for each sample on the data set\n",
    "z_scores = stats.zscore(data['BMI'])\n",
    "\n",
    "# It is going to be considered 3 times the standard desviation\n",
    "abs_z_scores = np.abs(z_scores)\n",
    "no_outliers = (abs_z_scores < 3)\n",
    "new_data = data[no_outliers]\n",
    "\n",
    "def outliers_zscore(headers):\n",
    "    \n",
    "    for header in headers:\n",
    "        \n",
    "        # Identify outliers\n",
    "        z_scores1 = stats.zscore(data[header])\n",
    "        abs_z_scores1 = np.abs(z_scores1)\n",
    "        outliers1 = (abs_z_scores1 > 2)\n",
    "\n",
    "        # Boxplot and mean with outliers\n",
    "        print()\n",
    "        print(header.upper())\n",
    "        print(np.where(outliers1)[0]) # Print the positions of the outliers\n",
    "        print()\n",
    "        print('Mean with outliers:')\n",
    "        print(data[header].mean())\n",
    "        print()\n",
    "\n",
    "        plt.figure(figsize = (12,4))\n",
    "        ax1 = plt.subplot(1,2,1)\n",
    "        ax1.boxplot(data[header])\n",
    "        ax1.set_title('Boxplot' + header + ' with outliers ')\n",
    "\n",
    "        # Boxplot and mean without outliers\n",
    "        print('Mean without outliers:')\n",
    "        outl = ~(outliers1) #Invert the boolean array of outliers\n",
    "        mean = data[header].iloc[outl.tolist()].mean() # Calculate the mean without the outliers\n",
    "        print(mean)\n",
    "\n",
    "        # We are considering that the outliers are samples of the dataset that belong to erroneous data. \n",
    "        # Thus, we are not taking into account those values for the calculation of the mean of the variable.\n",
    "\n",
    "        # Replacing the outliers for the mean value\n",
    "        data[header] = data[header].where(~(outliers1), mean)\n",
    "        \n",
    "        ax2 = plt.subplot(1,2,2)\n",
    "        ax2.boxplot(data[header])\n",
    "        ax2.set_title('Boxplot' + header + ' without outliers ')\n",
    "        plt.show()\n",
    "        plt.show()\n",
    "        "
   ]
  },
  {
   "cell_type": "code",
   "execution_count": 30,
   "metadata": {},
   "outputs": [
    {
     "name": "stdout",
     "output_type": "stream",
     "text": [
      "\n",
      "ALT36\n",
      "[  0   2 457]\n",
      "\n",
      "Mean with outliers:\n",
      "83.11768953068592\n",
      "\n",
      "Mean without outliers:\n",
      "83.28726483357453\n"
     ]
    },
    {
     "data": {
      "image/png": "[encoded data removed]",
      "text/plain": [
       "<Figure size 864x288 with 2 Axes>"
      ]
     },
     "metadata": {
      "needs_background": "light"
     },
     "output_type": "display_data"
    },
    {
     "name": "stdout",
     "output_type": "stream",
     "text": [
      "\n",
      "ALT48\n",
      "[  0   2 457]\n",
      "\n",
      "Mean with outliers:\n",
      "83.62960288808664\n",
      "\n",
      "Mean without outliers:\n",
      "83.80028943560058\n"
     ]
    },
    {
     "data": {
      "image/png": "[encoded data removed]",
      "text/plain": [
       "<Figure size 864x288 with 2 Axes>"
      ]
     },
     "metadata": {
      "needs_background": "light"
     },
     "output_type": "display_data"
    },
    {
     "name": "stdout",
     "output_type": "stream",
     "text": [
      "\n",
      "ALTAFTER24W\n",
      "[  0   2 457]\n",
      "\n",
      "Mean with outliers:\n",
      "33.43826714801444\n",
      "\n",
      "Mean without outliers:\n",
      "33.5\n"
     ]
    },
    {
     "data": {
      "image/png": "[encoded data removed]",
      "text/plain": [
       "<Figure size 864x288 with 2 Axes>"
      ]
     },
     "metadata": {
      "needs_background": "light"
     },
     "output_type": "display_data"
    },
    {
     "name": "stdout",
     "output_type": "stream",
     "text": [
      "\n",
      "RNA12\n",
      "[4]\n",
      "\n",
      "Mean with outliers:\n",
      "288753.61227436824\n",
      "\n",
      "Mean without outliers:\n",
      "286266.0592485549\n"
     ]
    },
    {
     "data": {
      "image/png": "[encoded data removed]",
      "text/plain": [
       "<Figure size 864x288 with 2 Axes>"
      ]
     },
     "metadata": {
      "needs_background": "light"
     },
     "output_type": "display_data"
    }
   ],
   "source": [
    "headers = ['ALT36', 'ALT48', 'ALTafter24w', 'RNA12']\n",
    "outliers_zscore(headers)"
   ]
  },
  {
   "cell_type": "markdown",
   "metadata": {},
   "source": [
    "## 8.- Dealing with imbalance classes - Luis\n",
    "This occurs when the number of samples in one class is much higher than the number of samples in the another class. "
   ]
  },
  {
   "cell_type": "code",
   "execution_count": 31,
   "metadata": {},
   "outputs": [
    {
     "data": {
      "image/png": "[encoded data removed]",
      "text/plain": [
       "<Figure size 432x288 with 1 Axes>"
      ]
     },
     "metadata": {
      "needs_background": "light"
     },
     "output_type": "display_data"
    }
   ],
   "source": [
    "# The variable 'Outcome' indicates whether the patient has Cirrhosis or not (1 or 0)\n",
    "\n",
    "plt.hist(data['Outcome'])\n",
    "plt.title('Outcome')\n",
    "plt.show()"
   ]
  },
  {
   "cell_type": "markdown",
   "metadata": {},
   "source": [
    "#### a) Random Oversampling \n",
    "Randomly duplicate examples in the minority class."
   ]
  },
  {
   "cell_type": "code",
   "execution_count": 36,
   "metadata": {},
   "outputs": [
    {
     "name": "stdout",
     "output_type": "stream",
     "text": [
      "Counter({0: 1023, 1: 1023})\n"
     ]
    },
    {
     "data": {
      "image/png": "[encoded data removed]",
      "text/plain": [
       "<Figure size 432x288 with 1 Axes>"
      ]
     },
     "metadata": {
      "needs_background": "light"
     },
     "output_type": "display_data"
    }
   ],
   "source": [
    "from imblearn.over_sampling import RandomOverSampler\n",
    "from collections import Counter\n",
    "\n",
    "# Define Oversampling strategy\n",
    "oversample = RandomOverSampler(sampling_strategy='minority')\n",
    "\n",
    "# Fit and apply the transform\n",
    "X_over, y_over = oversample.fit_resample(data[data.columns.difference(['Outcome','col'])],data.loc[:,'Outcome'])\n",
    "\n",
    "# Summarize the new class distribution\n",
    "class_distribution = pd.Series(y_over).value_counts(normalize=True)\n",
    "ax = class_distribution.plot.barh()\n",
    "ax.set_title(\"Class distribution\")\n",
    "\n",
    "print(Counter(y_over))"
   ]
  },
  {
   "cell_type": "code",
   "execution_count": null,
   "metadata": {},
   "outputs": [],
   "source": [
    "# Falta missing values\n",
    "\n",
    "# Falta Normalizacion y Training\n",
    "# Training aun no se del todo como hacerlo"
   ]
  }
 ],
 "metadata": {
  "kernelspec": {
   "display_name": "Python 3",
   "language": "python",
   "name": "python3"
  },
  "language_info": {
   "codemirror_mode": {
    "name": "ipython",
    "version": 3
   },
   "file_extension": ".py",
   "mimetype": "text/x-python",
   "name": "python",
   "nbconvert_exporter": "python",
   "pygments_lexer": "ipython3",
   "version": "3.8.5"
  }
 },
 "nbformat": 4,
 "nbformat_minor": 4
}
